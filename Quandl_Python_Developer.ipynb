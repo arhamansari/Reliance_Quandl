{
 "cells": [
  {
   "cell_type": "code",
   "execution_count": 2,
   "metadata": {},
   "outputs": [
    {
     "name": "stdout",
     "output_type": "stream",
     "text": [
      "Collecting quandl\n",
      "  Downloading Quandl-3.5.3-py2.py3-none-any.whl (25 kB)\n",
      "Requirement already satisfied: requests>=2.7.0 in c:\\users\\lenovo\\appdata\\roaming\\python\\python37\\site-packages (from quandl) (2.23.0)\n",
      "Collecting inflection>=0.3.1\n",
      "  Downloading inflection-0.5.1-py2.py3-none-any.whl (9.5 kB)\n",
      "Requirement already satisfied: six in c:\\programdata\\anaconda3\\lib\\site-packages (from quandl) (1.14.0)\n",
      "Requirement already satisfied: more-itertools in c:\\programdata\\anaconda3\\lib\\site-packages (from quandl) (8.2.0)\n",
      "Requirement already satisfied: numpy>=1.8 in c:\\programdata\\anaconda3\\lib\\site-packages (from quandl) (1.18.1)\n",
      "Requirement already satisfied: python-dateutil in c:\\programdata\\anaconda3\\lib\\site-packages (from quandl) (2.8.1)\n",
      "Requirement already satisfied: pandas>=0.14 in c:\\programdata\\anaconda3\\lib\\site-packages (from quandl) (1.0.1)\n",
      "Requirement already satisfied: idna<3,>=2.5 in c:\\users\\lenovo\\appdata\\roaming\\python\\python37\\site-packages (from requests>=2.7.0->quandl) (2.9)\n",
      "Requirement already satisfied: chardet<4,>=3.0.2 in c:\\users\\lenovo\\appdata\\roaming\\python\\python37\\site-packages (from requests>=2.7.0->quandl) (3.0.4)\n",
      "Requirement already satisfied: urllib3!=1.25.0,!=1.25.1,<1.26,>=1.21.1 in c:\\users\\lenovo\\appdata\\roaming\\python\\python37\\site-packages (from requests>=2.7.0->quandl) (1.25.8)\n",
      "Requirement already satisfied: certifi>=2017.4.17 in c:\\programdata\\anaconda3\\lib\\site-packages (from requests>=2.7.0->quandl) (2019.11.28)\n",
      "Requirement already satisfied: pytz>=2017.2 in c:\\programdata\\anaconda3\\lib\\site-packages (from pandas>=0.14->quandl) (2019.3)\n",
      "Installing collected packages: inflection, quandl\n",
      "Successfully installed inflection-0.5.1 quandl-3.5.3\n",
      "Note: you may need to restart the kernel to use updated packages.\n"
     ]
    }
   ],
   "source": [
    "pip install quandl"
   ]
  },
  {
   "cell_type": "code",
   "execution_count": 22,
   "metadata": {},
   "outputs": [
    {
     "name": "stdout",
     "output_type": "stream",
     "text": [
      "Collecting mpl_finance\n",
      "  Downloading mpl_finance-0.10.1-py3-none-any.whl (8.4 kB)\n",
      "Requirement already satisfied: matplotlib in c:\\programdata\\anaconda3\\lib\\site-packages (from mpl_finance) (3.1.3)\n",
      "Requirement already satisfied: kiwisolver>=1.0.1 in c:\\programdata\\anaconda3\\lib\\site-packages (from matplotlib->mpl_finance) (1.1.0)\n",
      "Requirement already satisfied: pyparsing!=2.0.4,!=2.1.2,!=2.1.6,>=2.0.1 in c:\\programdata\\anaconda3\\lib\\site-packages (from matplotlib->mpl_finance) (2.4.6)\n",
      "Requirement already satisfied: python-dateutil>=2.1 in c:\\programdata\\anaconda3\\lib\\site-packages (from matplotlib->mpl_finance) (2.8.1)\n",
      "Requirement already satisfied: numpy>=1.11 in c:\\programdata\\anaconda3\\lib\\site-packages (from matplotlib->mpl_finance) (1.18.1)\n",
      "Requirement already satisfied: cycler>=0.10 in c:\\programdata\\anaconda3\\lib\\site-packages (from matplotlib->mpl_finance) (0.10.0)\n",
      "Requirement already satisfied: setuptools in c:\\programdata\\anaconda3\\lib\\site-packages (from kiwisolver>=1.0.1->matplotlib->mpl_finance) (45.2.0.post20200210)\n",
      "Requirement already satisfied: six>=1.5 in c:\\programdata\\anaconda3\\lib\\site-packages (from python-dateutil>=2.1->matplotlib->mpl_finance) (1.14.0)\n",
      "Installing collected packages: mpl-finance\n",
      "Successfully installed mpl-finance-0.10.1\n",
      "Note: you may need to restart the kernel to use updated packages.\n"
     ]
    }
   ],
   "source": [
    "pip install mpl_finance"
   ]
  },
  {
   "cell_type": "code",
   "execution_count": 163,
   "metadata": {},
   "outputs": [],
   "source": [
    "#importing Necessary modules\n",
    "import quandl\n",
    "import pandas as pd\n",
    "import numpy as np\n",
    "import datetime as dt\n",
    "import matplotlib.pyplot as plt\n",
    "import matplotlib.dates as mdates\n",
    "from mpl_finance import candlestick_ohlc"
   ]
  },
  {
   "cell_type": "markdown",
   "metadata": {},
   "source": [
    "# TASK 2"
   ]
  },
  {
   "cell_type": "code",
   "execution_count": 158,
   "metadata": {},
   "outputs": [],
   "source": [
    "#Fetching data to through API\n",
    "quandl = quandl.get(\"BSE/BOM500325\", authtoken=\"bwnFc2yx21NhsHDdzUAL\")"
   ]
  },
  {
   "cell_type": "code",
   "execution_count": 161,
   "metadata": {},
   "outputs": [],
   "source": [
    "#Converting data to CSV\n",
    "quandl.to_csv('Reliance.csv')"
   ]
  },
  {
   "cell_type": "code",
   "execution_count": 164,
   "metadata": {
    "scrolled": true
   },
   "outputs": [
    {
     "data": {
      "text/html": [
       "<div>\n",
       "<style scoped>\n",
       "    .dataframe tbody tr th:only-of-type {\n",
       "        vertical-align: middle;\n",
       "    }\n",
       "\n",
       "    .dataframe tbody tr th {\n",
       "        vertical-align: top;\n",
       "    }\n",
       "\n",
       "    .dataframe thead th {\n",
       "        text-align: right;\n",
       "    }\n",
       "</style>\n",
       "<table border=\"1\" class=\"dataframe\">\n",
       "  <thead>\n",
       "    <tr style=\"text-align: right;\">\n",
       "      <th></th>\n",
       "      <th>Date</th>\n",
       "      <th>Open</th>\n",
       "      <th>High</th>\n",
       "      <th>Low</th>\n",
       "      <th>Close</th>\n",
       "      <th>WAP</th>\n",
       "      <th>No. of Shares</th>\n",
       "      <th>No. of Trades</th>\n",
       "      <th>Total Turnover</th>\n",
       "      <th>Deliverable Quantity</th>\n",
       "      <th>% Deli. Qty to Traded Qty</th>\n",
       "      <th>Spread H-L</th>\n",
       "      <th>Spread C-O</th>\n",
       "    </tr>\n",
       "  </thead>\n",
       "  <tbody>\n",
       "    <tr>\n",
       "      <th>0</th>\n",
       "      <td>1991-01-02</td>\n",
       "      <td>115.00</td>\n",
       "      <td>115.00</td>\n",
       "      <td>105.00</td>\n",
       "      <td>107.50</td>\n",
       "      <td>0.00</td>\n",
       "      <td>0.0</td>\n",
       "      <td>0.0</td>\n",
       "      <td>0.000000e+00</td>\n",
       "      <td>NaN</td>\n",
       "      <td>NaN</td>\n",
       "      <td>10.00</td>\n",
       "      <td>-7.50</td>\n",
       "    </tr>\n",
       "    <tr>\n",
       "      <th>1</th>\n",
       "      <td>1991-01-03</td>\n",
       "      <td>107.50</td>\n",
       "      <td>107.50</td>\n",
       "      <td>95.00</td>\n",
       "      <td>97.50</td>\n",
       "      <td>0.00</td>\n",
       "      <td>0.0</td>\n",
       "      <td>0.0</td>\n",
       "      <td>0.000000e+00</td>\n",
       "      <td>NaN</td>\n",
       "      <td>NaN</td>\n",
       "      <td>12.50</td>\n",
       "      <td>-10.00</td>\n",
       "    </tr>\n",
       "    <tr>\n",
       "      <th>2</th>\n",
       "      <td>1991-01-07</td>\n",
       "      <td>105.00</td>\n",
       "      <td>107.50</td>\n",
       "      <td>97.50</td>\n",
       "      <td>105.00</td>\n",
       "      <td>0.00</td>\n",
       "      <td>0.0</td>\n",
       "      <td>0.0</td>\n",
       "      <td>0.000000e+00</td>\n",
       "      <td>NaN</td>\n",
       "      <td>NaN</td>\n",
       "      <td>10.00</td>\n",
       "      <td>0.00</td>\n",
       "    </tr>\n",
       "    <tr>\n",
       "      <th>3</th>\n",
       "      <td>1991-01-09</td>\n",
       "      <td>105.00</td>\n",
       "      <td>105.00</td>\n",
       "      <td>101.25</td>\n",
       "      <td>102.50</td>\n",
       "      <td>0.00</td>\n",
       "      <td>0.0</td>\n",
       "      <td>0.0</td>\n",
       "      <td>0.000000e+00</td>\n",
       "      <td>NaN</td>\n",
       "      <td>NaN</td>\n",
       "      <td>3.75</td>\n",
       "      <td>-2.50</td>\n",
       "    </tr>\n",
       "    <tr>\n",
       "      <th>4</th>\n",
       "      <td>1991-01-11</td>\n",
       "      <td>102.50</td>\n",
       "      <td>110.00</td>\n",
       "      <td>100.00</td>\n",
       "      <td>108.75</td>\n",
       "      <td>0.00</td>\n",
       "      <td>0.0</td>\n",
       "      <td>0.0</td>\n",
       "      <td>0.000000e+00</td>\n",
       "      <td>NaN</td>\n",
       "      <td>NaN</td>\n",
       "      <td>10.00</td>\n",
       "      <td>6.25</td>\n",
       "    </tr>\n",
       "    <tr>\n",
       "      <th>...</th>\n",
       "      <td>...</td>\n",
       "      <td>...</td>\n",
       "      <td>...</td>\n",
       "      <td>...</td>\n",
       "      <td>...</td>\n",
       "      <td>...</td>\n",
       "      <td>...</td>\n",
       "      <td>...</td>\n",
       "      <td>...</td>\n",
       "      <td>...</td>\n",
       "      <td>...</td>\n",
       "      <td>...</td>\n",
       "      <td>...</td>\n",
       "    </tr>\n",
       "    <tr>\n",
       "      <th>7229</th>\n",
       "      <td>2020-11-14</td>\n",
       "      <td>2013.00</td>\n",
       "      <td>2016.25</td>\n",
       "      <td>1996.00</td>\n",
       "      <td>2001.80</td>\n",
       "      <td>2005.75</td>\n",
       "      <td>100085.0</td>\n",
       "      <td>8102.0</td>\n",
       "      <td>2.007451e+08</td>\n",
       "      <td>39617.0</td>\n",
       "      <td>39.58</td>\n",
       "      <td>20.25</td>\n",
       "      <td>-11.20</td>\n",
       "    </tr>\n",
       "    <tr>\n",
       "      <th>7230</th>\n",
       "      <td>2020-11-17</td>\n",
       "      <td>2084.00</td>\n",
       "      <td>2084.00</td>\n",
       "      <td>1985.00</td>\n",
       "      <td>1992.90</td>\n",
       "      <td>2012.31</td>\n",
       "      <td>643296.0</td>\n",
       "      <td>33218.0</td>\n",
       "      <td>1.294508e+09</td>\n",
       "      <td>142610.0</td>\n",
       "      <td>22.17</td>\n",
       "      <td>99.00</td>\n",
       "      <td>-91.10</td>\n",
       "    </tr>\n",
       "    <tr>\n",
       "      <th>7231</th>\n",
       "      <td>2020-11-18</td>\n",
       "      <td>1997.45</td>\n",
       "      <td>2006.65</td>\n",
       "      <td>1961.00</td>\n",
       "      <td>1987.20</td>\n",
       "      <td>1980.18</td>\n",
       "      <td>427982.0</td>\n",
       "      <td>29066.0</td>\n",
       "      <td>8.474796e+08</td>\n",
       "      <td>78708.0</td>\n",
       "      <td>18.39</td>\n",
       "      <td>45.65</td>\n",
       "      <td>-10.25</td>\n",
       "    </tr>\n",
       "    <tr>\n",
       "      <th>7232</th>\n",
       "      <td>2020-11-19</td>\n",
       "      <td>1986.40</td>\n",
       "      <td>2010.00</td>\n",
       "      <td>1968.00</td>\n",
       "      <td>1972.65</td>\n",
       "      <td>1988.17</td>\n",
       "      <td>802733.0</td>\n",
       "      <td>59306.0</td>\n",
       "      <td>1.595967e+09</td>\n",
       "      <td>255097.0</td>\n",
       "      <td>31.78</td>\n",
       "      <td>42.00</td>\n",
       "      <td>-13.75</td>\n",
       "    </tr>\n",
       "    <tr>\n",
       "      <th>7233</th>\n",
       "      <td>2020-11-20</td>\n",
       "      <td>1977.80</td>\n",
       "      <td>1984.10</td>\n",
       "      <td>1894.60</td>\n",
       "      <td>1899.20</td>\n",
       "      <td>1924.37</td>\n",
       "      <td>863183.0</td>\n",
       "      <td>56844.0</td>\n",
       "      <td>1.661083e+09</td>\n",
       "      <td>293614.0</td>\n",
       "      <td>34.02</td>\n",
       "      <td>89.50</td>\n",
       "      <td>-78.60</td>\n",
       "    </tr>\n",
       "  </tbody>\n",
       "</table>\n",
       "<p>7234 rows × 13 columns</p>\n",
       "</div>"
      ],
      "text/plain": [
       "            Date     Open     High      Low    Close      WAP  No. of Shares  \\\n",
       "0     1991-01-02   115.00   115.00   105.00   107.50     0.00            0.0   \n",
       "1     1991-01-03   107.50   107.50    95.00    97.50     0.00            0.0   \n",
       "2     1991-01-07   105.00   107.50    97.50   105.00     0.00            0.0   \n",
       "3     1991-01-09   105.00   105.00   101.25   102.50     0.00            0.0   \n",
       "4     1991-01-11   102.50   110.00   100.00   108.75     0.00            0.0   \n",
       "...          ...      ...      ...      ...      ...      ...            ...   \n",
       "7229  2020-11-14  2013.00  2016.25  1996.00  2001.80  2005.75       100085.0   \n",
       "7230  2020-11-17  2084.00  2084.00  1985.00  1992.90  2012.31       643296.0   \n",
       "7231  2020-11-18  1997.45  2006.65  1961.00  1987.20  1980.18       427982.0   \n",
       "7232  2020-11-19  1986.40  2010.00  1968.00  1972.65  1988.17       802733.0   \n",
       "7233  2020-11-20  1977.80  1984.10  1894.60  1899.20  1924.37       863183.0   \n",
       "\n",
       "      No. of Trades  Total Turnover  Deliverable Quantity  \\\n",
       "0               0.0    0.000000e+00                   NaN   \n",
       "1               0.0    0.000000e+00                   NaN   \n",
       "2               0.0    0.000000e+00                   NaN   \n",
       "3               0.0    0.000000e+00                   NaN   \n",
       "4               0.0    0.000000e+00                   NaN   \n",
       "...             ...             ...                   ...   \n",
       "7229         8102.0    2.007451e+08               39617.0   \n",
       "7230        33218.0    1.294508e+09              142610.0   \n",
       "7231        29066.0    8.474796e+08               78708.0   \n",
       "7232        59306.0    1.595967e+09              255097.0   \n",
       "7233        56844.0    1.661083e+09              293614.0   \n",
       "\n",
       "      % Deli. Qty to Traded Qty  Spread H-L  Spread C-O  \n",
       "0                           NaN       10.00       -7.50  \n",
       "1                           NaN       12.50      -10.00  \n",
       "2                           NaN       10.00        0.00  \n",
       "3                           NaN        3.75       -2.50  \n",
       "4                           NaN       10.00        6.25  \n",
       "...                         ...         ...         ...  \n",
       "7229                      39.58       20.25      -11.20  \n",
       "7230                      22.17       99.00      -91.10  \n",
       "7231                      18.39       45.65      -10.25  \n",
       "7232                      31.78       42.00      -13.75  \n",
       "7233                      34.02       89.50      -78.60  \n",
       "\n",
       "[7234 rows x 13 columns]"
      ]
     },
     "execution_count": 164,
     "metadata": {},
     "output_type": "execute_result"
    }
   ],
   "source": [
    "#To check that file is saved in CSV\n",
    "pd.read_csv('Reliance.csv')"
   ]
  },
  {
   "cell_type": "markdown",
   "metadata": {},
   "source": [
    "# TASK 1"
   ]
  },
  {
   "cell_type": "markdown",
   "metadata": {},
   "source": [
    "## TASK 1a\n",
    "Included is the file containing a time-series data from the stock market. For every stock mentioned, we have data for several days at a 60Mins frequency containing the Open, High, Low and Close Values.\n",
    "Convert/Resample 60Mins data into 1day candles data"
   ]
  },
  {
   "cell_type": "code",
   "execution_count": 171,
   "metadata": {},
   "outputs": [],
   "source": [
    "#Fetching Time Specific Data\n",
    "quandl.ApiConfig.api_key = 'bwnFc2yx21NhsHDdzUAL'\n",
    "df_grib = quandl.get('BSE/BOM500325', start_date='2020-11-12', end_date='2020-11-13')"
   ]
  },
  {
   "cell_type": "code",
   "execution_count": 172,
   "metadata": {
    "scrolled": false
   },
   "outputs": [
    {
     "data": {
      "text/html": [
       "<div>\n",
       "<style scoped>\n",
       "    .dataframe tbody tr th:only-of-type {\n",
       "        vertical-align: middle;\n",
       "    }\n",
       "\n",
       "    .dataframe tbody tr th {\n",
       "        vertical-align: top;\n",
       "    }\n",
       "\n",
       "    .dataframe thead th {\n",
       "        text-align: right;\n",
       "    }\n",
       "</style>\n",
       "<table border=\"1\" class=\"dataframe\">\n",
       "  <thead>\n",
       "    <tr style=\"text-align: right;\">\n",
       "      <th></th>\n",
       "      <th>Open</th>\n",
       "      <th>High</th>\n",
       "      <th>Low</th>\n",
       "      <th>Close</th>\n",
       "      <th>WAP</th>\n",
       "      <th>No. of Shares</th>\n",
       "      <th>No. of Trades</th>\n",
       "      <th>Total Turnover</th>\n",
       "      <th>Deliverable Quantity</th>\n",
       "      <th>% Deli. Qty to Traded Qty</th>\n",
       "      <th>Spread H-L</th>\n",
       "      <th>Spread C-O</th>\n",
       "    </tr>\n",
       "    <tr>\n",
       "      <th>Date</th>\n",
       "      <th></th>\n",
       "      <th></th>\n",
       "      <th></th>\n",
       "      <th></th>\n",
       "      <th></th>\n",
       "      <th></th>\n",
       "      <th></th>\n",
       "      <th></th>\n",
       "      <th></th>\n",
       "      <th></th>\n",
       "      <th></th>\n",
       "      <th></th>\n",
       "    </tr>\n",
       "  </thead>\n",
       "  <tbody>\n",
       "    <tr>\n",
       "      <th>2020-11-12</th>\n",
       "      <td>1985.0</td>\n",
       "      <td>2008.35</td>\n",
       "      <td>1965.0</td>\n",
       "      <td>1979.85</td>\n",
       "      <td>1988.00</td>\n",
       "      <td>711464.0</td>\n",
       "      <td>38178.0</td>\n",
       "      <td>1.414393e+09</td>\n",
       "      <td>283431.0</td>\n",
       "      <td>39.84</td>\n",
       "      <td>43.35</td>\n",
       "      <td>-5.15</td>\n",
       "    </tr>\n",
       "    <tr>\n",
       "      <th>2020-11-13</th>\n",
       "      <td>1990.0</td>\n",
       "      <td>2036.65</td>\n",
       "      <td>1981.0</td>\n",
       "      <td>1996.10</td>\n",
       "      <td>1985.53</td>\n",
       "      <td>1825121.0</td>\n",
       "      <td>31252.0</td>\n",
       "      <td>3.623827e+09</td>\n",
       "      <td>1276056.0</td>\n",
       "      <td>69.92</td>\n",
       "      <td>55.65</td>\n",
       "      <td>6.10</td>\n",
       "    </tr>\n",
       "  </tbody>\n",
       "</table>\n",
       "</div>"
      ],
      "text/plain": [
       "              Open     High     Low    Close      WAP  No. of Shares  \\\n",
       "Date                                                                   \n",
       "2020-11-12  1985.0  2008.35  1965.0  1979.85  1988.00       711464.0   \n",
       "2020-11-13  1990.0  2036.65  1981.0  1996.10  1985.53      1825121.0   \n",
       "\n",
       "            No. of Trades  Total Turnover  Deliverable Quantity  \\\n",
       "Date                                                              \n",
       "2020-11-12        38178.0    1.414393e+09              283431.0   \n",
       "2020-11-13        31252.0    3.623827e+09             1276056.0   \n",
       "\n",
       "            % Deli. Qty to Traded Qty  Spread H-L  Spread C-O  \n",
       "Date                                                           \n",
       "2020-11-12                      39.84       43.35       -5.15  \n",
       "2020-11-13                      69.92       55.65        6.10  "
      ]
     },
     "execution_count": 172,
     "metadata": {},
     "output_type": "execute_result"
    }
   ],
   "source": [
    "df_grib.head()"
   ]
  },
  {
   "cell_type": "markdown",
   "metadata": {},
   "source": [
    "#### Preprocessing"
   ]
  },
  {
   "cell_type": "code",
   "execution_count": 173,
   "metadata": {},
   "outputs": [
    {
     "data": {
      "text/plain": [
       "Open                         float64\n",
       "High                         float64\n",
       "Low                          float64\n",
       "Close                        float64\n",
       "WAP                          float64\n",
       "No. of Shares                float64\n",
       "No. of Trades                float64\n",
       "Total Turnover               float64\n",
       "Deliverable Quantity         float64\n",
       "% Deli. Qty to Traded Qty    float64\n",
       "Spread H-L                   float64\n",
       "Spread C-O                   float64\n",
       "dtype: object"
      ]
     },
     "execution_count": 173,
     "metadata": {},
     "output_type": "execute_result"
    }
   ],
   "source": [
    "df_grib.dtypes"
   ]
  },
  {
   "cell_type": "code",
   "execution_count": 174,
   "metadata": {},
   "outputs": [
    {
     "data": {
      "text/html": [
       "<div>\n",
       "<style scoped>\n",
       "    .dataframe tbody tr th:only-of-type {\n",
       "        vertical-align: middle;\n",
       "    }\n",
       "\n",
       "    .dataframe tbody tr th {\n",
       "        vertical-align: top;\n",
       "    }\n",
       "\n",
       "    .dataframe thead th {\n",
       "        text-align: right;\n",
       "    }\n",
       "</style>\n",
       "<table border=\"1\" class=\"dataframe\">\n",
       "  <thead>\n",
       "    <tr style=\"text-align: right;\">\n",
       "      <th></th>\n",
       "      <th>Open</th>\n",
       "      <th>High</th>\n",
       "      <th>Low</th>\n",
       "      <th>Close</th>\n",
       "    </tr>\n",
       "    <tr>\n",
       "      <th>Date</th>\n",
       "      <th></th>\n",
       "      <th></th>\n",
       "      <th></th>\n",
       "      <th></th>\n",
       "    </tr>\n",
       "  </thead>\n",
       "  <tbody>\n",
       "    <tr>\n",
       "      <th>2020-11-12</th>\n",
       "      <td>1985.0</td>\n",
       "      <td>2008.35</td>\n",
       "      <td>1965.0</td>\n",
       "      <td>1979.85</td>\n",
       "    </tr>\n",
       "    <tr>\n",
       "      <th>2020-11-13</th>\n",
       "      <td>1990.0</td>\n",
       "      <td>2036.65</td>\n",
       "      <td>1981.0</td>\n",
       "      <td>1996.10</td>\n",
       "    </tr>\n",
       "  </tbody>\n",
       "</table>\n",
       "</div>"
      ],
      "text/plain": [
       "              Open     High     Low    Close\n",
       "Date                                        \n",
       "2020-11-12  1985.0  2008.35  1965.0  1979.85\n",
       "2020-11-13  1990.0  2036.65  1981.0  1996.10"
      ]
     },
     "execution_count": 174,
     "metadata": {},
     "output_type": "execute_result"
    }
   ],
   "source": [
    "#Removing unecessary columns\n",
    "del_col=[  'WAP', 'No. of Shares', 'No. of Trades', 'Total Turnover', 'Deliverable Quantity','% Deli. Qty to Traded Qty','Spread H-L','Spread C-O']\n",
    "df_grib= df_grib.drop(del_col,1)\n",
    "df_grib.head(3)"
   ]
  },
  {
   "cell_type": "code",
   "execution_count": 175,
   "metadata": {},
   "outputs": [],
   "source": [
    "df_grib.reset_index(inplace = True)"
   ]
  },
  {
   "cell_type": "code",
   "execution_count": 176,
   "metadata": {
    "scrolled": false
   },
   "outputs": [
    {
     "data": {
      "text/html": [
       "<div>\n",
       "<style scoped>\n",
       "    .dataframe tbody tr th:only-of-type {\n",
       "        vertical-align: middle;\n",
       "    }\n",
       "\n",
       "    .dataframe tbody tr th {\n",
       "        vertical-align: top;\n",
       "    }\n",
       "\n",
       "    .dataframe thead th {\n",
       "        text-align: right;\n",
       "    }\n",
       "</style>\n",
       "<table border=\"1\" class=\"dataframe\">\n",
       "  <thead>\n",
       "    <tr style=\"text-align: right;\">\n",
       "      <th></th>\n",
       "      <th>Date</th>\n",
       "      <th>Open</th>\n",
       "      <th>High</th>\n",
       "      <th>Low</th>\n",
       "      <th>Close</th>\n",
       "    </tr>\n",
       "  </thead>\n",
       "  <tbody>\n",
       "    <tr>\n",
       "      <th>0</th>\n",
       "      <td>2020-11-12</td>\n",
       "      <td>1985.0</td>\n",
       "      <td>2008.35</td>\n",
       "      <td>1965.0</td>\n",
       "      <td>1979.85</td>\n",
       "    </tr>\n",
       "    <tr>\n",
       "      <th>1</th>\n",
       "      <td>2020-11-13</td>\n",
       "      <td>1990.0</td>\n",
       "      <td>2036.65</td>\n",
       "      <td>1981.0</td>\n",
       "      <td>1996.10</td>\n",
       "    </tr>\n",
       "  </tbody>\n",
       "</table>\n",
       "</div>"
      ],
      "text/plain": [
       "        Date    Open     High     Low    Close\n",
       "0 2020-11-12  1985.0  2008.35  1965.0  1979.85\n",
       "1 2020-11-13  1990.0  2036.65  1981.0  1996.10"
      ]
     },
     "execution_count": 176,
     "metadata": {},
     "output_type": "execute_result"
    }
   ],
   "source": [
    "df_grib.head()"
   ]
  },
  {
   "cell_type": "code",
   "execution_count": 146,
   "metadata": {},
   "outputs": [
    {
     "data": {
      "text/plain": [
       "Open     float64\n",
       "High     float64\n",
       "Low      float64\n",
       "Close    float64\n",
       "dtype: object"
      ]
     },
     "execution_count": 146,
     "metadata": {},
     "output_type": "execute_result"
    }
   ],
   "source": [
    "df_grib.dtypes"
   ]
  },
  {
   "cell_type": "code",
   "execution_count": 177,
   "metadata": {
    "scrolled": true
   },
   "outputs": [],
   "source": [
    "#converting date format to numerical value \n",
    "#df_new.reset_index(inplace = True)\n",
    "df_grib['Date'] = df_grib['Date'].map(mdates.date2num)"
   ]
  },
  {
   "cell_type": "code",
   "execution_count": 178,
   "metadata": {},
   "outputs": [
    {
     "data": {
      "text/plain": [
       "Date     float64\n",
       "Open     float64\n",
       "High     float64\n",
       "Low      float64\n",
       "Close    float64\n",
       "dtype: object"
      ]
     },
     "execution_count": 178,
     "metadata": {},
     "output_type": "execute_result"
    }
   ],
   "source": [
    "df_grib.dtypes"
   ]
  },
  {
   "cell_type": "code",
   "execution_count": 179,
   "metadata": {},
   "outputs": [
    {
     "data": {
      "text/html": [
       "<div>\n",
       "<style scoped>\n",
       "    .dataframe tbody tr th:only-of-type {\n",
       "        vertical-align: middle;\n",
       "    }\n",
       "\n",
       "    .dataframe tbody tr th {\n",
       "        vertical-align: top;\n",
       "    }\n",
       "\n",
       "    .dataframe thead th {\n",
       "        text-align: right;\n",
       "    }\n",
       "</style>\n",
       "<table border=\"1\" class=\"dataframe\">\n",
       "  <thead>\n",
       "    <tr style=\"text-align: right;\">\n",
       "      <th></th>\n",
       "      <th>Date</th>\n",
       "      <th>Open</th>\n",
       "      <th>High</th>\n",
       "      <th>Low</th>\n",
       "      <th>Close</th>\n",
       "    </tr>\n",
       "  </thead>\n",
       "  <tbody>\n",
       "    <tr>\n",
       "      <th>0</th>\n",
       "      <td>737741.0</td>\n",
       "      <td>1985.0</td>\n",
       "      <td>2008.35</td>\n",
       "      <td>1965.0</td>\n",
       "      <td>1979.85</td>\n",
       "    </tr>\n",
       "    <tr>\n",
       "      <th>1</th>\n",
       "      <td>737742.0</td>\n",
       "      <td>1990.0</td>\n",
       "      <td>2036.65</td>\n",
       "      <td>1981.0</td>\n",
       "      <td>1996.10</td>\n",
       "    </tr>\n",
       "  </tbody>\n",
       "</table>\n",
       "</div>"
      ],
      "text/plain": [
       "       Date    Open     High     Low    Close\n",
       "0  737741.0  1985.0  2008.35  1965.0  1979.85\n",
       "1  737742.0  1990.0  2036.65  1981.0  1996.10"
      ]
     },
     "execution_count": 179,
     "metadata": {},
     "output_type": "execute_result"
    }
   ],
   "source": [
    "df_grib.head()"
   ]
  },
  {
   "cell_type": "code",
   "execution_count": 180,
   "metadata": {
    "scrolled": true
   },
   "outputs": [
    {
     "data": {
      "image/png": "[encoded data removed]",
      "text/plain": [
       "<Figure size 1120x320 with 1 Axes>"
      ]
     },
     "metadata": {
      "needs_background": "light"
     },
     "output_type": "display_data"
    }
   ],
   "source": [
    "#Visualization\n",
    "plt.figure(figsize=(14,4),dpi=80)\n",
    "ax.grid(True)\n",
    "ax.set_axisbelow(True)\n",
    "ax.set_title('Reliance Industries',color = 'white')\n",
    "ax.set_facecolor('black')\n",
    "ax.figure.set_facecolor('#121212')\n",
    "\n",
    "ax.tick_params(axis = 'x',color = 'white')\n",
    "ax.tick_params(axis = 'y',color = 'white')\n",
    "\n",
    "ax = plt.subplot()\n",
    "ax.xaxis_date()\n",
    "\n",
    "candlestick_ohlc(ax, df_grib.values,width = 0.5,colorup = '#00ff00')\n",
    "plt.show()"
   ]
  },
  {
   "cell_type": "markdown",
   "metadata": {},
   "source": [
    "## Task 1b\n",
    "\n",
    "Calculate 13 period rolling/moving average of High and 5 rolling/period moving average of close for every Symbol.\n",
    "If Moving Average of close crosses Moving Average of High from below mark that as a \"flag\" (1)\n",
    "Identify all the stocks for last 5 days which had a flag in it.\n",
    "Attempt to do this with pandas, using functions (if possible)."
   ]
  },
  {
   "cell_type": "code",
   "execution_count": null,
   "metadata": {},
   "outputs": [],
   "source": []
  },
  {
   "cell_type": "code",
   "execution_count": null,
   "metadata": {},
   "outputs": [],
   "source": []
  },
  {
   "cell_type": "code",
   "execution_count": null,
   "metadata": {},
   "outputs": [],
   "source": []
  },
  {
   "cell_type": "code",
   "execution_count": null,
   "metadata": {},
   "outputs": [],
   "source": []
  },
  {
   "cell_type": "code",
   "execution_count": null,
   "metadata": {},
   "outputs": [],
   "source": []
  }
 ],
 "metadata": {
  "kernelspec": {
   "display_name": "Python 3",
   "language": "python",
   "name": "python3"
  },
  "language_info": {
   "codemirror_mode": {
    "name": "ipython",
    "version": 3
   },
   "file_extension": ".py",
   "mimetype": "text/x-python",
   "name": "python",
   "nbconvert_exporter": "python",
   "pygments_lexer": "ipython3",
   "version": "3.7.6"
  }
 },
 "nbformat": 4,
 "nbformat_minor": 4
}
